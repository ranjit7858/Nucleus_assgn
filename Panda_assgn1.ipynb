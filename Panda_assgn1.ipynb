{
 "cells": [
  {
   "cell_type": "code",
   "execution_count": 35,
   "metadata": {
    "id": "VFUSNIvbXRJQ"
   },
   "outputs": [],
   "source": [
    "import pandas as pd"
   ]
  },
  {
   "cell_type": "code",
   "execution_count": 36,
   "metadata": {
    "id": "O7EvmSh2UDnz"
   },
   "outputs": [],
   "source": [
    "df1 = pd.read_csv('greek_gods.csv',sep = ',')"
   ]
  },
  {
   "cell_type": "code",
   "execution_count": 37,
   "metadata": {
    "colab": {
     "base_uri": "https://localhost:8080/",
     "height": 206
    },
    "id": "jdgFx7HFXbYN",
    "outputId": "35217cfc-7bc6-45e8-e8c7-122b77801868"
   },
   "outputs": [
    {
     "data": {
      "text/html": [
       "<div>\n",
       "<style scoped>\n",
       "    .dataframe tbody tr th:only-of-type {\n",
       "        vertical-align: middle;\n",
       "    }\n",
       "\n",
       "    .dataframe tbody tr th {\n",
       "        vertical-align: top;\n",
       "    }\n",
       "\n",
       "    .dataframe thead th {\n",
       "        text-align: right;\n",
       "    }\n",
       "</style>\n",
       "<table border=\"1\" class=\"dataframe\">\n",
       "  <thead>\n",
       "    <tr style=\"text-align: right;\">\n",
       "      <th></th>\n",
       "      <th>God</th>\n",
       "      <th>Domain</th>\n",
       "      <th>Symbol</th>\n",
       "      <th>Age</th>\n",
       "    </tr>\n",
       "  </thead>\n",
       "  <tbody>\n",
       "    <tr>\n",
       "      <th>0</th>\n",
       "      <td>Zeus</td>\n",
       "      <td>King of the Gods</td>\n",
       "      <td>Thunderbolt</td>\n",
       "      <td>10000</td>\n",
       "    </tr>\n",
       "    <tr>\n",
       "      <th>1</th>\n",
       "      <td>Poseidon</td>\n",
       "      <td>God of the Sea</td>\n",
       "      <td>Trident</td>\n",
       "      <td>9000</td>\n",
       "    </tr>\n",
       "    <tr>\n",
       "      <th>2</th>\n",
       "      <td>Hera</td>\n",
       "      <td>Queen of the Gods</td>\n",
       "      <td>Peacock</td>\n",
       "      <td>8500</td>\n",
       "    </tr>\n",
       "    <tr>\n",
       "      <th>3</th>\n",
       "      <td>Athena</td>\n",
       "      <td>Goddess of Wisdom</td>\n",
       "      <td>Owl</td>\n",
       "      <td>8000</td>\n",
       "    </tr>\n",
       "    <tr>\n",
       "      <th>4</th>\n",
       "      <td>Hades</td>\n",
       "      <td>God of the Underworld</td>\n",
       "      <td>Helmet</td>\n",
       "      <td>9500</td>\n",
       "    </tr>\n",
       "  </tbody>\n",
       "</table>\n",
       "</div>"
      ],
      "text/plain": [
       "        God                 Domain       Symbol    Age\n",
       "0      Zeus       King of the Gods  Thunderbolt  10000\n",
       "1  Poseidon         God of the Sea      Trident   9000\n",
       "2      Hera      Queen of the Gods      Peacock   8500\n",
       "3    Athena      Goddess of Wisdom          Owl   8000\n",
       "4     Hades  God of the Underworld       Helmet   9500"
      ]
     },
     "execution_count": 37,
     "metadata": {},
     "output_type": "execute_result"
    }
   ],
   "source": [
    "df1"
   ]
  },
  {
   "cell_type": "code",
   "execution_count": 38,
   "metadata": {
    "id": "4ZeyQW3pXdGV"
   },
   "outputs": [],
   "source": [
    "df2 = pd.read_csv('greek_goddesses.csv',sep = ',')"
   ]
  },
  {
   "cell_type": "code",
   "execution_count": 39,
   "metadata": {
    "colab": {
     "base_uri": "https://localhost:8080/",
     "height": 206
    },
    "id": "mO0phlEKaijo",
    "outputId": "f99faecc-7037-49ee-ad18-65dcd84282c5"
   },
   "outputs": [
    {
     "data": {
      "text/html": [
       "<div>\n",
       "<style scoped>\n",
       "    .dataframe tbody tr th:only-of-type {\n",
       "        vertical-align: middle;\n",
       "    }\n",
       "\n",
       "    .dataframe tbody tr th {\n",
       "        vertical-align: top;\n",
       "    }\n",
       "\n",
       "    .dataframe thead th {\n",
       "        text-align: right;\n",
       "    }\n",
       "</style>\n",
       "<table border=\"1\" class=\"dataframe\">\n",
       "  <thead>\n",
       "    <tr style=\"text-align: right;\">\n",
       "      <th></th>\n",
       "      <th>Goddess</th>\n",
       "      <th>Domain</th>\n",
       "      <th>Symbol</th>\n",
       "      <th>Age</th>\n",
       "    </tr>\n",
       "  </thead>\n",
       "  <tbody>\n",
       "    <tr>\n",
       "      <th>0</th>\n",
       "      <td>Aphrodite</td>\n",
       "      <td>Goddess of Love</td>\n",
       "      <td>Dove</td>\n",
       "      <td>7000</td>\n",
       "    </tr>\n",
       "    <tr>\n",
       "      <th>1</th>\n",
       "      <td>Artemis</td>\n",
       "      <td>Goddess of the Hunt</td>\n",
       "      <td>Bow and Arrow</td>\n",
       "      <td>7500</td>\n",
       "    </tr>\n",
       "    <tr>\n",
       "      <th>2</th>\n",
       "      <td>Demeter</td>\n",
       "      <td>Goddess of Agriculture</td>\n",
       "      <td>Wheat</td>\n",
       "      <td>8000</td>\n",
       "    </tr>\n",
       "    <tr>\n",
       "      <th>3</th>\n",
       "      <td>Hestia</td>\n",
       "      <td>Goddess of the Hearth</td>\n",
       "      <td>Fire</td>\n",
       "      <td>8200</td>\n",
       "    </tr>\n",
       "    <tr>\n",
       "      <th>4</th>\n",
       "      <td>Persephone</td>\n",
       "      <td>Queen of the Underworld</td>\n",
       "      <td>Pomegranate</td>\n",
       "      <td>7800</td>\n",
       "    </tr>\n",
       "  </tbody>\n",
       "</table>\n",
       "</div>"
      ],
      "text/plain": [
       "      Goddess                   Domain         Symbol   Age\n",
       "0   Aphrodite          Goddess of Love           Dove  7000\n",
       "1     Artemis      Goddess of the Hunt  Bow and Arrow  7500\n",
       "2     Demeter   Goddess of Agriculture          Wheat  8000\n",
       "3      Hestia    Goddess of the Hearth           Fire  8200\n",
       "4  Persephone  Queen of the Underworld    Pomegranate  7800"
      ]
     },
     "execution_count": 39,
     "metadata": {},
     "output_type": "execute_result"
    }
   ],
   "source": [
    "df2"
   ]
  },
  {
   "cell_type": "code",
   "execution_count": 40,
   "metadata": {
    "id": "hYBbnYu2CnBv"
   },
   "outputs": [],
   "source": [
    "#Question 1 \n",
    "df1_changed = df1.copy()\n",
    "df1_changed.rename(columns={'God': 'God/Goddess'},inplace = True)\n",
    "\n",
    "df2_changed = df2.copy()\n",
    "df2_changed.rename(columns={'Goddess': 'God/Goddess'},inplace= True)"
   ]
  },
  {
   "cell_type": "code",
   "execution_count": 41,
   "metadata": {
    "id": "btDI5JkTanYi"
   },
   "outputs": [],
   "source": [
    "df_new = pd.merge(df1_changed,df2_changed,how = 'outer')"
   ]
  },
  {
   "cell_type": "code",
   "execution_count": 42,
   "metadata": {
    "colab": {
     "base_uri": "https://localhost:8080/",
     "height": 363
    },
    "id": "HQ7qrPuqcOr_",
    "outputId": "f2afbd60-3505-4b8c-cb0f-931442e95f73"
   },
   "outputs": [
    {
     "data": {
      "text/html": [
       "<div>\n",
       "<style scoped>\n",
       "    .dataframe tbody tr th:only-of-type {\n",
       "        vertical-align: middle;\n",
       "    }\n",
       "\n",
       "    .dataframe tbody tr th {\n",
       "        vertical-align: top;\n",
       "    }\n",
       "\n",
       "    .dataframe thead th {\n",
       "        text-align: right;\n",
       "    }\n",
       "</style>\n",
       "<table border=\"1\" class=\"dataframe\">\n",
       "  <thead>\n",
       "    <tr style=\"text-align: right;\">\n",
       "      <th></th>\n",
       "      <th>God/Goddess</th>\n",
       "      <th>Domain</th>\n",
       "      <th>Symbol</th>\n",
       "      <th>Age</th>\n",
       "    </tr>\n",
       "  </thead>\n",
       "  <tbody>\n",
       "    <tr>\n",
       "      <th>0</th>\n",
       "      <td>Zeus</td>\n",
       "      <td>King of the Gods</td>\n",
       "      <td>Thunderbolt</td>\n",
       "      <td>10000</td>\n",
       "    </tr>\n",
       "    <tr>\n",
       "      <th>1</th>\n",
       "      <td>Poseidon</td>\n",
       "      <td>God of the Sea</td>\n",
       "      <td>Trident</td>\n",
       "      <td>9000</td>\n",
       "    </tr>\n",
       "    <tr>\n",
       "      <th>2</th>\n",
       "      <td>Hera</td>\n",
       "      <td>Queen of the Gods</td>\n",
       "      <td>Peacock</td>\n",
       "      <td>8500</td>\n",
       "    </tr>\n",
       "    <tr>\n",
       "      <th>3</th>\n",
       "      <td>Athena</td>\n",
       "      <td>Goddess of Wisdom</td>\n",
       "      <td>Owl</td>\n",
       "      <td>8000</td>\n",
       "    </tr>\n",
       "    <tr>\n",
       "      <th>4</th>\n",
       "      <td>Hades</td>\n",
       "      <td>God of the Underworld</td>\n",
       "      <td>Helmet</td>\n",
       "      <td>9500</td>\n",
       "    </tr>\n",
       "    <tr>\n",
       "      <th>5</th>\n",
       "      <td>Aphrodite</td>\n",
       "      <td>Goddess of Love</td>\n",
       "      <td>Dove</td>\n",
       "      <td>7000</td>\n",
       "    </tr>\n",
       "    <tr>\n",
       "      <th>6</th>\n",
       "      <td>Artemis</td>\n",
       "      <td>Goddess of the Hunt</td>\n",
       "      <td>Bow and Arrow</td>\n",
       "      <td>7500</td>\n",
       "    </tr>\n",
       "    <tr>\n",
       "      <th>7</th>\n",
       "      <td>Demeter</td>\n",
       "      <td>Goddess of Agriculture</td>\n",
       "      <td>Wheat</td>\n",
       "      <td>8000</td>\n",
       "    </tr>\n",
       "    <tr>\n",
       "      <th>8</th>\n",
       "      <td>Hestia</td>\n",
       "      <td>Goddess of the Hearth</td>\n",
       "      <td>Fire</td>\n",
       "      <td>8200</td>\n",
       "    </tr>\n",
       "    <tr>\n",
       "      <th>9</th>\n",
       "      <td>Persephone</td>\n",
       "      <td>Queen of the Underworld</td>\n",
       "      <td>Pomegranate</td>\n",
       "      <td>7800</td>\n",
       "    </tr>\n",
       "  </tbody>\n",
       "</table>\n",
       "</div>"
      ],
      "text/plain": [
       "  God/Goddess                   Domain         Symbol    Age\n",
       "0        Zeus         King of the Gods    Thunderbolt  10000\n",
       "1    Poseidon           God of the Sea        Trident   9000\n",
       "2        Hera        Queen of the Gods        Peacock   8500\n",
       "3      Athena        Goddess of Wisdom            Owl   8000\n",
       "4       Hades    God of the Underworld         Helmet   9500\n",
       "5   Aphrodite          Goddess of Love           Dove   7000\n",
       "6     Artemis      Goddess of the Hunt  Bow and Arrow   7500\n",
       "7     Demeter   Goddess of Agriculture          Wheat   8000\n",
       "8      Hestia    Goddess of the Hearth           Fire   8200\n",
       "9  Persephone  Queen of the Underworld    Pomegranate   7800"
      ]
     },
     "execution_count": 42,
     "metadata": {},
     "output_type": "execute_result"
    }
   ],
   "source": [
    "df_new"
   ]
  },
  {
   "cell_type": "code",
   "execution_count": 43,
   "metadata": {
    "id": "QS-Pod7ZcQWu"
   },
   "outputs": [],
   "source": [
    "#Question 2 \n",
    "ans2 = df_new[df_new['Age']>8000].sort_values(by='Age',ascending = False)"
   ]
  },
  {
   "cell_type": "code",
   "execution_count": 44,
   "metadata": {
    "colab": {
     "base_uri": "https://localhost:8080/",
     "height": 206
    },
    "id": "JY1Uof3bGdpy",
    "outputId": "e98d5238-84c9-4b96-d98c-1304210f9625"
   },
   "outputs": [
    {
     "data": {
      "text/html": [
       "<div>\n",
       "<style scoped>\n",
       "    .dataframe tbody tr th:only-of-type {\n",
       "        vertical-align: middle;\n",
       "    }\n",
       "\n",
       "    .dataframe tbody tr th {\n",
       "        vertical-align: top;\n",
       "    }\n",
       "\n",
       "    .dataframe thead th {\n",
       "        text-align: right;\n",
       "    }\n",
       "</style>\n",
       "<table border=\"1\" class=\"dataframe\">\n",
       "  <thead>\n",
       "    <tr style=\"text-align: right;\">\n",
       "      <th></th>\n",
       "      <th>God/Goddess</th>\n",
       "      <th>Domain</th>\n",
       "      <th>Symbol</th>\n",
       "      <th>Age</th>\n",
       "    </tr>\n",
       "  </thead>\n",
       "  <tbody>\n",
       "    <tr>\n",
       "      <th>0</th>\n",
       "      <td>Zeus</td>\n",
       "      <td>King of the Gods</td>\n",
       "      <td>Thunderbolt</td>\n",
       "      <td>10000</td>\n",
       "    </tr>\n",
       "    <tr>\n",
       "      <th>4</th>\n",
       "      <td>Hades</td>\n",
       "      <td>God of the Underworld</td>\n",
       "      <td>Helmet</td>\n",
       "      <td>9500</td>\n",
       "    </tr>\n",
       "    <tr>\n",
       "      <th>1</th>\n",
       "      <td>Poseidon</td>\n",
       "      <td>God of the Sea</td>\n",
       "      <td>Trident</td>\n",
       "      <td>9000</td>\n",
       "    </tr>\n",
       "    <tr>\n",
       "      <th>2</th>\n",
       "      <td>Hera</td>\n",
       "      <td>Queen of the Gods</td>\n",
       "      <td>Peacock</td>\n",
       "      <td>8500</td>\n",
       "    </tr>\n",
       "    <tr>\n",
       "      <th>8</th>\n",
       "      <td>Hestia</td>\n",
       "      <td>Goddess of the Hearth</td>\n",
       "      <td>Fire</td>\n",
       "      <td>8200</td>\n",
       "    </tr>\n",
       "  </tbody>\n",
       "</table>\n",
       "</div>"
      ],
      "text/plain": [
       "  God/Goddess                 Domain       Symbol    Age\n",
       "0        Zeus       King of the Gods  Thunderbolt  10000\n",
       "4       Hades  God of the Underworld       Helmet   9500\n",
       "1    Poseidon         God of the Sea      Trident   9000\n",
       "2        Hera      Queen of the Gods      Peacock   8500\n",
       "8      Hestia  Goddess of the Hearth         Fire   8200"
      ]
     },
     "execution_count": 44,
     "metadata": {},
     "output_type": "execute_result"
    }
   ],
   "source": [
    "ans2"
   ]
  },
  {
   "cell_type": "code",
   "execution_count": 48,
   "metadata": {
    "id": "mygTYkVTGlhg"
   },
   "outputs": [],
   "source": [
    "#Question 3\n",
    "df_3 = pd.merge(df1_changed,df2_changed,how = 'inner',on='Domain')"
   ]
  },
  {
   "cell_type": "code",
   "execution_count": 49,
   "metadata": {},
   "outputs": [
    {
     "data": {
      "text/html": [
       "<div>\n",
       "<style scoped>\n",
       "    .dataframe tbody tr th:only-of-type {\n",
       "        vertical-align: middle;\n",
       "    }\n",
       "\n",
       "    .dataframe tbody tr th {\n",
       "        vertical-align: top;\n",
       "    }\n",
       "\n",
       "    .dataframe thead th {\n",
       "        text-align: right;\n",
       "    }\n",
       "</style>\n",
       "<table border=\"1\" class=\"dataframe\">\n",
       "  <thead>\n",
       "    <tr style=\"text-align: right;\">\n",
       "      <th></th>\n",
       "      <th>God/Goddess_x</th>\n",
       "      <th>Domain</th>\n",
       "      <th>Symbol_x</th>\n",
       "      <th>Age_x</th>\n",
       "      <th>God/Goddess_y</th>\n",
       "      <th>Symbol_y</th>\n",
       "      <th>Age_y</th>\n",
       "    </tr>\n",
       "  </thead>\n",
       "  <tbody>\n",
       "  </tbody>\n",
       "</table>\n",
       "</div>"
      ],
      "text/plain": [
       "Empty DataFrame\n",
       "Columns: [God/Goddess_x, Domain, Symbol_x, Age_x, God/Goddess_y, Symbol_y, Age_y]\n",
       "Index: []"
      ]
     },
     "execution_count": 49,
     "metadata": {},
     "output_type": "execute_result"
    }
   ],
   "source": [
    "df_3 "
   ]
  },
  {
   "cell_type": "code",
   "execution_count": 50,
   "metadata": {
    "colab": {
     "base_uri": "https://localhost:8080/",
     "height": 287
    },
    "id": "4_YvxOXZHFG-",
    "outputId": "e09a9004-1728-49fd-c4a4-61241453da29"
   },
   "outputs": [
    {
     "name": "stdout",
     "output_type": "stream",
     "text": [
      "0    Zeus\n",
      "Name: God, dtype: object\n"
     ]
    }
   ],
   "source": [
    "#Question 4 \n",
    "\n",
    "if df1['Age'].max()>df2['Age'].max():\n",
    "    print(df1[df1['Age']==df1['Age'].max()]['God'])\n",
    "    \n",
    "elif df1['Age'].max()<df2['Age'].max():\n",
    "    print(df1[df1['Age']==df1['Age'].max()]['Goddess'])\n",
    "    \n",
    "else:\n",
    "    print(df1[df1['Age']==df1['Age'].max()]['God'])\n",
    "    print(df1[df1['Age']==df1['Age'].max()]['Goddess'])\n",
    "    "
   ]
  },
  {
   "cell_type": "code",
   "execution_count": 51,
   "metadata": {
    "colab": {
     "base_uri": "https://localhost:8080/"
    },
    "id": "Zai-yCTnISWL",
    "outputId": "ec0b8d46-04f4-4c63-9a9c-09c64baf6667"
   },
   "outputs": [
    {
     "data": {
      "text/html": [
       "<div>\n",
       "<style scoped>\n",
       "    .dataframe tbody tr th:only-of-type {\n",
       "        vertical-align: middle;\n",
       "    }\n",
       "\n",
       "    .dataframe tbody tr th {\n",
       "        vertical-align: top;\n",
       "    }\n",
       "\n",
       "    .dataframe thead th {\n",
       "        text-align: right;\n",
       "    }\n",
       "</style>\n",
       "<table border=\"1\" class=\"dataframe\">\n",
       "  <thead>\n",
       "    <tr style=\"text-align: right;\">\n",
       "      <th></th>\n",
       "      <th>God/Goddess</th>\n",
       "      <th>Domain</th>\n",
       "      <th>Symbol</th>\n",
       "      <th>Age</th>\n",
       "      <th>Age Group</th>\n",
       "    </tr>\n",
       "  </thead>\n",
       "  <tbody>\n",
       "    <tr>\n",
       "      <th>0</th>\n",
       "      <td>Zeus</td>\n",
       "      <td>King of the Gods</td>\n",
       "      <td>Thunderbolt</td>\n",
       "      <td>10000</td>\n",
       "      <td>Old</td>\n",
       "    </tr>\n",
       "    <tr>\n",
       "      <th>1</th>\n",
       "      <td>Poseidon</td>\n",
       "      <td>God of the Sea</td>\n",
       "      <td>Trident</td>\n",
       "      <td>9000</td>\n",
       "      <td>Old</td>\n",
       "    </tr>\n",
       "    <tr>\n",
       "      <th>2</th>\n",
       "      <td>Hera</td>\n",
       "      <td>Queen of the Gods</td>\n",
       "      <td>Peacock</td>\n",
       "      <td>8500</td>\n",
       "      <td>Old</td>\n",
       "    </tr>\n",
       "    <tr>\n",
       "      <th>3</th>\n",
       "      <td>Athena</td>\n",
       "      <td>Goddess of Wisdom</td>\n",
       "      <td>Owl</td>\n",
       "      <td>8000</td>\n",
       "      <td>Old</td>\n",
       "    </tr>\n",
       "    <tr>\n",
       "      <th>4</th>\n",
       "      <td>Hades</td>\n",
       "      <td>God of the Underworld</td>\n",
       "      <td>Helmet</td>\n",
       "      <td>9500</td>\n",
       "      <td>Old</td>\n",
       "    </tr>\n",
       "    <tr>\n",
       "      <th>5</th>\n",
       "      <td>Aphrodite</td>\n",
       "      <td>Goddess of Love</td>\n",
       "      <td>Dove</td>\n",
       "      <td>7000</td>\n",
       "      <td>Middle Aged</td>\n",
       "    </tr>\n",
       "    <tr>\n",
       "      <th>6</th>\n",
       "      <td>Artemis</td>\n",
       "      <td>Goddess of the Hunt</td>\n",
       "      <td>Bow and Arrow</td>\n",
       "      <td>7500</td>\n",
       "      <td>Middle Aged</td>\n",
       "    </tr>\n",
       "    <tr>\n",
       "      <th>7</th>\n",
       "      <td>Demeter</td>\n",
       "      <td>Goddess of Agriculture</td>\n",
       "      <td>Wheat</td>\n",
       "      <td>8000</td>\n",
       "      <td>Old</td>\n",
       "    </tr>\n",
       "    <tr>\n",
       "      <th>8</th>\n",
       "      <td>Hestia</td>\n",
       "      <td>Goddess of the Hearth</td>\n",
       "      <td>Fire</td>\n",
       "      <td>8200</td>\n",
       "      <td>Old</td>\n",
       "    </tr>\n",
       "    <tr>\n",
       "      <th>9</th>\n",
       "      <td>Persephone</td>\n",
       "      <td>Queen of the Underworld</td>\n",
       "      <td>Pomegranate</td>\n",
       "      <td>7800</td>\n",
       "      <td>Middle Aged</td>\n",
       "    </tr>\n",
       "  </tbody>\n",
       "</table>\n",
       "</div>"
      ],
      "text/plain": [
       "  God/Goddess                   Domain         Symbol    Age    Age Group\n",
       "0        Zeus         King of the Gods    Thunderbolt  10000          Old\n",
       "1    Poseidon           God of the Sea        Trident   9000          Old\n",
       "2        Hera        Queen of the Gods        Peacock   8500          Old\n",
       "3      Athena        Goddess of Wisdom            Owl   8000          Old\n",
       "4       Hades    God of the Underworld         Helmet   9500          Old\n",
       "5   Aphrodite          Goddess of Love           Dove   7000  Middle Aged\n",
       "6     Artemis      Goddess of the Hunt  Bow and Arrow   7500  Middle Aged\n",
       "7     Demeter   Goddess of Agriculture          Wheat   8000          Old\n",
       "8      Hestia    Goddess of the Hearth           Fire   8200          Old\n",
       "9  Persephone  Queen of the Underworld    Pomegranate   7800  Middle Aged"
      ]
     },
     "execution_count": 51,
     "metadata": {},
     "output_type": "execute_result"
    }
   ],
   "source": [
    "#Question 5 \n",
    "import numpy as np\n",
    "\n",
    "df_new['Age Group'] = np.where(df_new['Age']<5000, 'Young',\n",
    "                   np.where(df_new[\"Age\"]<8000, 'Middle Aged','Old', ))\n",
    "\n",
    "df_new\n"
   ]
  },
  {
   "cell_type": "code",
   "execution_count": 54,
   "metadata": {},
   "outputs": [
    {
     "data": {
      "text/html": [
       "<div>\n",
       "<style scoped>\n",
       "    .dataframe tbody tr th:only-of-type {\n",
       "        vertical-align: middle;\n",
       "    }\n",
       "\n",
       "    .dataframe tbody tr th {\n",
       "        vertical-align: top;\n",
       "    }\n",
       "\n",
       "    .dataframe thead th {\n",
       "        text-align: right;\n",
       "    }\n",
       "</style>\n",
       "<table border=\"1\" class=\"dataframe\">\n",
       "  <thead>\n",
       "    <tr style=\"text-align: right;\">\n",
       "      <th></th>\n",
       "      <th>God/Goddess</th>\n",
       "      <th>Domain</th>\n",
       "      <th>Symbol</th>\n",
       "      <th>Age</th>\n",
       "      <th>Age Group</th>\n",
       "      <th>Age_Group</th>\n",
       "    </tr>\n",
       "  </thead>\n",
       "  <tbody>\n",
       "    <tr>\n",
       "      <th>0</th>\n",
       "      <td>Zeus</td>\n",
       "      <td>King of the Gods</td>\n",
       "      <td>Thunderbolt</td>\n",
       "      <td>10000</td>\n",
       "      <td>Old</td>\n",
       "      <td>None</td>\n",
       "    </tr>\n",
       "    <tr>\n",
       "      <th>1</th>\n",
       "      <td>Poseidon</td>\n",
       "      <td>God of the Sea</td>\n",
       "      <td>Trident</td>\n",
       "      <td>9000</td>\n",
       "      <td>Old</td>\n",
       "      <td>None</td>\n",
       "    </tr>\n",
       "    <tr>\n",
       "      <th>2</th>\n",
       "      <td>Hera</td>\n",
       "      <td>Queen of the Gods</td>\n",
       "      <td>Peacock</td>\n",
       "      <td>8500</td>\n",
       "      <td>Old</td>\n",
       "      <td>None</td>\n",
       "    </tr>\n",
       "    <tr>\n",
       "      <th>3</th>\n",
       "      <td>Athena</td>\n",
       "      <td>Goddess of Wisdom</td>\n",
       "      <td>Owl</td>\n",
       "      <td>8000</td>\n",
       "      <td>Old</td>\n",
       "      <td>None</td>\n",
       "    </tr>\n",
       "    <tr>\n",
       "      <th>4</th>\n",
       "      <td>Hades</td>\n",
       "      <td>God of the Underworld</td>\n",
       "      <td>Helmet</td>\n",
       "      <td>9500</td>\n",
       "      <td>Old</td>\n",
       "      <td>None</td>\n",
       "    </tr>\n",
       "    <tr>\n",
       "      <th>5</th>\n",
       "      <td>Aphrodite</td>\n",
       "      <td>Goddess of Love</td>\n",
       "      <td>Dove</td>\n",
       "      <td>7000</td>\n",
       "      <td>Middle Aged</td>\n",
       "      <td>None</td>\n",
       "    </tr>\n",
       "    <tr>\n",
       "      <th>6</th>\n",
       "      <td>Artemis</td>\n",
       "      <td>Goddess of the Hunt</td>\n",
       "      <td>Bow and Arrow</td>\n",
       "      <td>7500</td>\n",
       "      <td>Middle Aged</td>\n",
       "      <td>None</td>\n",
       "    </tr>\n",
       "    <tr>\n",
       "      <th>7</th>\n",
       "      <td>Demeter</td>\n",
       "      <td>Goddess of Agriculture</td>\n",
       "      <td>Wheat</td>\n",
       "      <td>8000</td>\n",
       "      <td>Old</td>\n",
       "      <td>None</td>\n",
       "    </tr>\n",
       "    <tr>\n",
       "      <th>8</th>\n",
       "      <td>Hestia</td>\n",
       "      <td>Goddess of the Hearth</td>\n",
       "      <td>Fire</td>\n",
       "      <td>8200</td>\n",
       "      <td>Old</td>\n",
       "      <td>None</td>\n",
       "    </tr>\n",
       "    <tr>\n",
       "      <th>9</th>\n",
       "      <td>Persephone</td>\n",
       "      <td>Queen of the Underworld</td>\n",
       "      <td>Pomegranate</td>\n",
       "      <td>7800</td>\n",
       "      <td>Middle Aged</td>\n",
       "      <td>None</td>\n",
       "    </tr>\n",
       "  </tbody>\n",
       "</table>\n",
       "</div>"
      ],
      "text/plain": [
       "  God/Goddess                   Domain         Symbol    Age    Age Group  \\\n",
       "0        Zeus         King of the Gods    Thunderbolt  10000          Old   \n",
       "1    Poseidon           God of the Sea        Trident   9000          Old   \n",
       "2        Hera        Queen of the Gods        Peacock   8500          Old   \n",
       "3      Athena        Goddess of Wisdom            Owl   8000          Old   \n",
       "4       Hades    God of the Underworld         Helmet   9500          Old   \n",
       "5   Aphrodite          Goddess of Love           Dove   7000  Middle Aged   \n",
       "6     Artemis      Goddess of the Hunt  Bow and Arrow   7500  Middle Aged   \n",
       "7     Demeter   Goddess of Agriculture          Wheat   8000          Old   \n",
       "8      Hestia    Goddess of the Hearth           Fire   8200          Old   \n",
       "9  Persephone  Queen of the Underworld    Pomegranate   7800  Middle Aged   \n",
       "\n",
       "  Age_Group  \n",
       "0      None  \n",
       "1      None  \n",
       "2      None  \n",
       "3      None  \n",
       "4      None  \n",
       "5      None  \n",
       "6      None  \n",
       "7      None  \n",
       "8      None  \n",
       "9      None  "
      ]
     },
     "execution_count": 54,
     "metadata": {},
     "output_type": "execute_result"
    }
   ],
   "source": [
    "df_new"
   ]
  },
  {
   "cell_type": "code",
   "execution_count": 55,
   "metadata": {
    "colab": {
     "base_uri": "https://localhost:8080/"
    },
    "id": "ZZtv_8CguLmw",
    "outputId": "37ff2b63-2c45-449d-cb04-aff926927141"
   },
   "outputs": [
    {
     "name": "stdout",
     "output_type": "stream",
     "text": [
      "Avg age of God  9000.0 \n",
      "Avg age of Goddess  7700.0\n",
      "1300.0\n",
      "Gods group is older\n"
     ]
    }
   ],
   "source": [
    "#question 6\n",
    "age_diff = abs(df1['Age'].mean() - df2['Age'].mean())\n",
    "print(\"Avg age of God \",df1['Age'].mean(),\"\\nAvg age of Goddess \", df2['Age'].mean())\n",
    "print(age_diff)\n",
    "\n",
    "if df1['Age'].mean()>df2['Age'].mean():\n",
    "  print(\"Gods group is older\")\n",
    "else:\n",
    "  print(\"Goddesses group is older\")"
   ]
  },
  {
   "cell_type": "code",
   "execution_count": 56,
   "metadata": {
    "colab": {
     "base_uri": "https://localhost:8080/"
    },
    "id": "4JOclTVZqftq",
    "outputId": "a4682de8-3fd0-4163-fd7c-4cbdc6ef7832"
   },
   "outputs": [
    {
     "name": "stdout",
     "output_type": "stream",
     "text": [
      "Zeus is over 8000\n",
      "Poseidon is over 8000\n",
      "Hera is over 8000\n",
      "Hades is over 8000\n",
      "Hestia is over 8000\n"
     ]
    }
   ],
   "source": [
    "#question 7\n",
    "for index, row in df_new.iterrows():\n",
    "    if row['Age'] > 8000:\n",
    "        print(row['God/Goddess'], 'is over 8000')"
   ]
  },
  {
   "cell_type": "code",
   "execution_count": 57,
   "metadata": {
    "id": "D-IXnmHBCMoV"
   },
   "outputs": [
    {
     "name": "stdout",
     "output_type": "stream",
     "text": [
      "Zeus is over 8000\n",
      "Poseidon is over 8000\n",
      "Hera is over 8000\n",
      "Hades is over 8000\n",
      "Hestia is over 8000\n"
     ]
    }
   ],
   "source": [
    "#question 8\n",
    "for ind in df_new.index:\n",
    "    if df_new['Age'][ind] > 8000:\n",
    "\n",
    "        print(df_new['God/Goddess'][ind], 'is over 8000')"
   ]
  },
  {
   "cell_type": "code",
   "execution_count": 58,
   "metadata": {},
   "outputs": [
    {
     "name": "stdout",
     "output_type": "stream",
     "text": [
      "The oldest God/Goddess is : Zeus\n"
     ]
    }
   ],
   "source": [
    "# Question 8 \n",
    "\n",
    "ind = 0\n",
    "\n",
    "while ind<len(df_new):\n",
    "    if df_new['Age'][ind]==df_new['Age'].max():\n",
    "        print(\"The oldest God/Goddess is :\",df_new['God/Goddess'][ind])\n",
    "    ind+=1\n",
    "    "
   ]
  },
  {
   "cell_type": "code",
   "execution_count": null,
   "metadata": {},
   "outputs": [],
   "source": []
  }
 ],
 "metadata": {
  "colab": {
   "provenance": []
  },
  "kernelspec": {
   "display_name": "Python 3 (ipykernel)",
   "language": "python",
   "name": "python3"
  },
  "language_info": {
   "codemirror_mode": {
    "name": "ipython",
    "version": 3
   },
   "file_extension": ".py",
   "mimetype": "text/x-python",
   "name": "python",
   "nbconvert_exporter": "python",
   "pygments_lexer": "ipython3",
   "version": "3.9.12"
  }
 },
 "nbformat": 4,
 "nbformat_minor": 1
}
